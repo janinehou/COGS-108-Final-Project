{
 "cells": [
  {
   "cell_type": "markdown",
   "metadata": {},
   "source": [
    "# COGS 108 - Final Project "
   ]
  },
  {
   "cell_type": "markdown",
   "metadata": {},
   "source": [
    "# Overview"
   ]
  },
  {
   "cell_type": "markdown",
   "metadata": {},
   "source": [
    "*Fill in your overview here*"
   ]
  },
  {
   "cell_type": "markdown",
   "metadata": {},
   "source": [
    "# Names\n",
    "\n",
    "- Christina Ho\n",
    "- Doljinsuren Zandanshatar\n",
    "- Janine Hou\n",
    "- Lawrence Ngo\n",
    "- Tatjana Tam"
   ]
  },
  {
   "cell_type": "markdown",
   "metadata": {},
   "source": [
    "# Group Members IDs\n",
    "\n",
    "- A13542382\n",
    "- A13756923\n",
    "- A12998815\n",
    "- A13466300\n",
    "- A14064063"
   ]
  },
  {
   "cell_type": "markdown",
   "metadata": {},
   "source": [
    "# Research Question"
   ]
  },
  {
   "cell_type": "markdown",
   "metadata": {},
   "source": [
    "*Fill in your research question here*"
   ]
  },
  {
   "cell_type": "markdown",
   "metadata": {},
   "source": [
    "## Background and Prior Work"
   ]
  },
  {
   "cell_type": "markdown",
   "metadata": {},
   "source": [
    "Quentin Tarantino is a well-established, acclaimed, and successful director best known for the unique style of his films. Some hallmarks of his films include non-linear storytelling, satire, and pop culture references. Tarantino is also known for employing numerous instances of stylized, graphic violence and an abundance of profanity throughout all of his films and thus they have all garnered “R” ratings. Based on the common theme of swear words and given the success and popularity of his films, our team wondered if there was any correlation between the types of swear words spoken and each film’s success. \n",
    "\n",
    "A previous study of Tarantino’s films has found that the spread of profanity across his movies has not been consistent: over 75% of curse words were found in just three out of seven films studied, and over 90% of cursing in his movies was found in four out of the seven (2). Additionally, Tarantino seems to have a penchant for using various forms of the F-word, as its different forms make up a majority of curse words used in his films (2). The study also found that the types of swear words employed vary in proportion across movies depending on the type of film it was: for instance, while the F-word makes up a majority of curse words uttered in most of Tarantino’s films,  Django Unchained was an exception in that it featured far more racial slurs compared to other types of swearing since it was a period piece about slavery (2). It was also noted that Tarantino’s use of “R-rated” swear words such as the F-word has decreased in recent years, possibly due to increasing mainstream popularity of his films (2).\n",
    "\n",
    "Another study has shown that while the amount of expletives has actually decreased in teen-oriented films over the years, it has increased in teen-oriented television shows (1). In addition, there is a difference in the type of swear words used and how often it is used between genders (1). This led us to explore whether swear words, and specifically what types, in Quentin Tarantino’s movies had an effect on how successfully the film performed.\n",
    "\n",
    "\n",
    "References (include links):\n",
    "- 1)  https://scholarsarchive.byu.edu/cgi/viewcontent.cgi?article=1136&context=facpub\n",
    "\n",
    "- 2) http://rstudio-pubs-static.s3.amazonaws.com/235553_58fbac0330f0432e9be75dca4df07b6b.html\n"
   ]
  },
  {
   "cell_type": "markdown",
   "metadata": {},
   "source": [
    "# Hypothesis\n"
   ]
  },
  {
   "cell_type": "markdown",
   "metadata": {},
   "source": [
    "*Fill in your hypotheses here*"
   ]
  },
  {
   "cell_type": "markdown",
   "metadata": {},
   "source": [
    "# Dataset(s)"
   ]
  },
  {
   "cell_type": "markdown",
   "metadata": {},
   "source": [
    "*Fill in your dataset information here*\n",
    "\n",
    "(Copy this information for each dataset)\n",
    "- Dataset Name:\n",
    "- Link to the dataset:\n",
    "- Number of observations:\n",
    "\n",
    "1-2 sentences describing each dataset. \n",
    "\n",
    "If you plan to use multiple datasets, add 1-2 sentences about how you plan to combine these datasets."
   ]
  },
  {
   "cell_type": "markdown",
   "metadata": {},
   "source": [
    "# Setup"
   ]
  },
  {
   "cell_type": "code",
   "execution_count": 1,
   "metadata": {},
   "outputs": [],
   "source": [
    "%matplotlib inline\n",
    "\n",
    "# Import libraries\n",
    "import numpy as np\n",
    "import pandas as pd\n",
    "import matplotlib.pyplot as plt\n",
    "import seaborn as sns\n",
    "\n",
    "# Configure libraries\n",
    "# The seaborn library makes plots look nicer\n",
    "sns.set()\n",
    "sns.set_context('talk')\n",
    "\n",
    "# Don't display too many rows/cols of DataFrames\n",
    "pd.options.display.max_rows = 7\n",
    "pd.options.display.max_columns = 8\n",
    "\n",
    "# Round decimals when displaying DataFrames\n",
    "pd.set_option('precision', 2)"
   ]
  },
  {
   "cell_type": "markdown",
   "metadata": {},
   "source": [
    "# Data Cleaning"
   ]
  },
  {
   "cell_type": "markdown",
   "metadata": {},
   "source": [
    "Describe your data cleaning steps here."
   ]
  },
  {
   "cell_type": "code",
   "execution_count": 2,
   "metadata": {},
   "outputs": [
    {
     "name": "stdout",
     "output_type": "stream",
     "text": [
      "197\n",
      "               movie     word                    category\n",
      "0     Reservoir Dogs     dick  bodily functions or organs\n",
      "1     Reservoir Dogs    dicks  bodily functions or organs\n",
      "2     Reservoir Dogs   fucked                sexual terms\n",
      "...              ...      ...                         ...\n",
      "1890    Jackie Brown      ass  bodily functions or organs\n",
      "1891    Jackie Brown  fucking                sexual terms\n",
      "1892    Jackie Brown  goddamn                    religion\n",
      "\n",
      "[1704 rows x 3 columns]\n",
      "                movie_title     gross    budget  imdb_score\n",
      "296       Django Unchained   1.63e+08  1.00e+08         8.5\n",
      "588   Inglourious Basterds   1.21e+08  7.50e+07         8.3\n",
      "706      The Hateful Eight   5.41e+07  4.40e+07         7.9\n",
      "...                     ...       ...       ...         ...\n",
      "2930          Jackie Brown   3.96e+07  1.20e+07         7.5\n",
      "3355          Pulp Fiction   1.08e+08  8.00e+06         8.9\n",
      "4496        Reservoir Dogs   2.81e+06  1.20e+06         8.4\n",
      "\n",
      "[8 rows x 4 columns]\n",
      "      Winner                  Film\n",
      "7361     NaN          Pulp Fiction\n",
      "7362     NaN          Pulp Fiction\n",
      "7374     NaN          Pulp Fiction\n",
      "7710     NaN          Jackie Brown\n",
      "9093     1.0  Inglourious Basterds\n",
      "9467     1.0      Django Unchained\n",
      "9855     NaN     The Hateful Eight\n"
     ]
    }
   ],
   "source": [
    "movie_list=['Django Unchained', 'Inglourious Basterds', 'The Hateful Eight', 'Kill Bill: Vol. 1', 'Kill Bill: Vol. 2', 'Jackie Brown', 'Pulp Fiction', 'Reservoir Dogs']\n",
    "religion=['goddamned', 'bastards', 'bastard', 'goddamn', 'damn', 'damned', 'hell']\n",
    "sexual=['fucked', 'fucking', 'fuck', 'fucks', 'fucker', 'fuckers', 'fuckup', 'motherfucker',  'cockblockery',  'fuckface', 'cocksucker', 'fuckhead', 'motherfuckers', 'motherfucking']\n",
    "body=['dick', 'dicks', 'dumbass','jackass', 'shit', 'shitload', 'horseshit',  'shittiest', 'pussy', 'bullshit', 'shitless', 'shitting', 'horeshit', 'cunt', 'cunts', 'merde', 'shithead',  'chickenshit', 'dickless', 'ass', 'asses', 'assholes', 'asshead', 'shitty']\n",
    "other=['slut', 'squaw', 'negro', 'jew', 'n-word', 'gook', 'gooks', 'slope', 'bitch', 'bitches', 'faggot', 'jap', 'wetback']\n",
    "\n",
    "tarantino = pd.read_csv('tarantino.csv')\n",
    "tarantino = tarantino.drop(['minutes_in', 'type'], axis=1)\n",
    "tarantino = tarantino.dropna()\n",
    "tarantino['category'] = np.nan\n",
    "tarantino.loc[tarantino['word'].isin(religion), 'category'] = 'religion'\n",
    "tarantino.loc[tarantino['word'].isin(sexual), 'category'] = 'sexual terms'\n",
    "tarantino.loc[tarantino['word'].isin(body), 'category'] = 'bodily functions or organs'\n",
    "tarantino.loc[tarantino['word'].isin(other), 'category'] = 'derogatory terms against social groups'\n",
    "print(tarantino['category'].isnull().sum())\n",
    "print(tarantino)\n",
    "\n",
    "imdb = pd.read_csv('movie_metadata.csv')\n",
    "imdb = imdb.drop(imdb[imdb.director_name != 'Quentin Tarantino'].index)\n",
    "imdb = imdb.loc[:,['movie_title', 'gross', 'budget', 'imdb_score']]\n",
    "print(imdb)\n",
    "\n",
    "award = pd.read_csv('database.csv')\n",
    "award = award[award['Film'].isin(movie_list)]\n",
    "award = award.loc[:,['Winner', 'Film']]\n",
    "print(award)\n"
   ]
  },
  {
   "cell_type": "markdown",
   "metadata": {},
   "source": [
    "# Data Analysis & Results"
   ]
  },
  {
   "cell_type": "markdown",
   "metadata": {},
   "source": [
    "Include cells that describe the steps in your data analysis."
   ]
  },
  {
   "cell_type": "code",
   "execution_count": 3,
   "metadata": {},
   "outputs": [],
   "source": [
    "## YOUR CODE HERE\n",
    "## FEEL FREE TO ADD MULTIPLE CELLS PER SECTION"
   ]
  },
  {
   "cell_type": "markdown",
   "metadata": {},
   "source": [
    "# Ethics & Privacy"
   ]
  },
  {
   "cell_type": "markdown",
   "metadata": {},
   "source": [
    "*Fill in your ethics & privacy discussion here*"
   ]
  },
  {
   "cell_type": "markdown",
   "metadata": {},
   "source": [
    "# Conclusion & Discussion"
   ]
  },
  {
   "cell_type": "markdown",
   "metadata": {},
   "source": [
    "*Fill in your discussion information here*"
   ]
  }
 ],
 "metadata": {
  "kernelspec": {
   "display_name": "Python 3",
   "language": "python",
   "name": "python3"
  },
  "language_info": {
   "codemirror_mode": {
    "name": "ipython",
    "version": 3
   },
   "file_extension": ".py",
   "mimetype": "text/x-python",
   "name": "python",
   "nbconvert_exporter": "python",
   "pygments_lexer": "ipython3",
   "version": "3.6.7"
  }
 },
 "nbformat": 4,
 "nbformat_minor": 2
}
